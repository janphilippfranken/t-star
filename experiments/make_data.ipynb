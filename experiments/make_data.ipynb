{
 "cells": [
  {
   "cell_type": "code",
   "execution_count": 22,
   "metadata": {},
   "outputs": [],
   "source": [
    "import json"
   ]
  },
  {
   "cell_type": "code",
   "execution_count": 23,
   "metadata": {},
   "outputs": [
    {
     "name": "stdout",
     "output_type": "stream",
     "text": [
      "7473 7473\n"
     ]
    }
   ],
   "source": [
    "zeroShot = json.load(open('gsm_results_llama_0_shot_train.json'))\n",
    "zeroShotCoT = json.load(open('gsm_results_llama_0_shot_cot_train.json'))\n",
    "print(len(zeroShot), len(zeroShotCoT))"
   ]
  },
  {
   "cell_type": "code",
   "execution_count": 24,
   "metadata": {},
   "outputs": [
    {
     "name": "stdout",
     "output_type": "stream",
     "text": [
      "3154\n",
      "2171\n",
      "2171\n"
     ]
    }
   ],
   "source": [
    "# get only those were cot is correct\n",
    "corrCoT = {k: v for k, v in enumerate(zeroShotCoT) if v['label'] == True}\n",
    "print(len(corrCoT))\n",
    "zero = {k: zeroShot[k] for k in corrCoT if zeroShot[k]['label'] == False}\n",
    "print(len(zero))\n",
    "corrCoT = {k: zeroShotCoT[k] for k in corrCoT if k in zero}\n",
    "print(len(corrCoT))"
   ]
  },
  {
   "cell_type": "code",
   "execution_count": 25,
   "metadata": {},
   "outputs": [
    {
     "data": {
      "text/plain": [
       "(393, 393)"
      ]
     },
     "execution_count": 25,
     "metadata": {},
     "output_type": "execute_result"
    }
   ],
   "source": [
    "zero_keys = list(zero.keys())\n",
    "cot_keys = list(corrCoT.keys())\n",
    "zero_keys[120], cot_keys[120]"
   ]
  },
  {
   "cell_type": "code",
   "execution_count": 26,
   "metadata": {},
   "outputs": [],
   "source": [
    "zero_keys = list(zero.keys())\n",
    "cot_keys = list(corrCoT.keys())\n",
    "dataset_1 = {}\n",
    "for k, _ in enumerate(zero_keys):\n",
    "    zk = zero_keys[k]\n",
    "    ck = cot_keys[k]\n",
    "    dataset_1[k] = [\n",
    "        {\"prompt\": corrCoT[ck]['prompt'].split(\"Let's think step-by-step\")[0].strip(),\n",
    "         \"response\": \"Let's think step-by-step: \" + \".\".join(corrCoT[ck]['response'].split(\".\")[1:]).strip(),\n",
    "         \"example_id\": k,\n",
    "        },\n",
    "        {\"prompt\": zero[zk]['prompt'],\n",
    "         \"response\": zero[zk]['response'],\n",
    "         \"example_id\": k,\n",
    "        }\n",
    "    ]\n",
    "    \n"
   ]
  },
  {
   "cell_type": "code",
   "execution_count": 14,
   "metadata": {},
   "outputs": [],
   "source": [
    "# with open('data.json', 'w') as d:\n",
    "#     json.dump(dataset, d, indent=4)"
   ]
  },
  {
   "cell_type": "code",
   "execution_count": 27,
   "metadata": {},
   "outputs": [
    {
     "name": "stdout",
     "output_type": "stream",
     "text": [
      "3154\n",
      "983\n",
      "983\n"
     ]
    }
   ],
   "source": [
    "# get only those were cot is correct\n",
    "corrCoT = {k: v for k, v in enumerate(zeroShotCoT) if v['label'] == True}\n",
    "print(len(corrCoT))\n",
    "zero = {k: zeroShot[k] for k in corrCoT if zeroShot[k]['label'] == True}\n",
    "print(len(zero))\n",
    "corrCoT = {k: zeroShotCoT[k] for k in corrCoT if k in zero}\n",
    "print(len(corrCoT))"
   ]
  },
  {
   "cell_type": "code",
   "execution_count": 28,
   "metadata": {},
   "outputs": [],
   "source": [
    "zero_keys = list(zero.keys())\n",
    "cot_keys = list(corrCoT.keys())\n",
    "dataset_2 = {}\n",
    "for k, _ in enumerate(zero_keys):\n",
    "    zk = zero_keys[k]\n",
    "    ck = cot_keys[k]\n",
    "    dataset_2[k] = [\n",
    "        {\"prompt\": zero[zk]['prompt'],\n",
    "         \"response\": zero[zk]['response'],\n",
    "         \"example_id\": k,\n",
    "        },\n",
    "        {\"prompt\": corrCoT[ck]['prompt'].split(\"Let's think step-by-step\")[0].strip(),\n",
    "         \"response\": \"Let's think step-by-step: \" + \".\".join(corrCoT[ck]['response'].split(\".\")[1:]).strip(),\n",
    "         \"example_id\": k,\n",
    "        }\n",
    "    ]"
   ]
  },
  {
   "cell_type": "code",
   "execution_count": 29,
   "metadata": {},
   "outputs": [],
   "source": [
    "dataset = {**dataset_1, **dataset_2}"
   ]
  },
  {
   "cell_type": "code",
   "execution_count": 30,
   "metadata": {},
   "outputs": [],
   "source": [
    "with open('data.json', 'w') as d:\n",
    "    json.dump(dataset, d, indent=4)"
   ]
  },
  {
   "cell_type": "code",
   "execution_count": 4,
   "metadata": {},
   "outputs": [],
   "source": [
    "import torch\n",
    "def typo_loss(logprobs: torch.FloatTensor) -> torch.FloatTensor:\n",
    "    \"\"\"\n",
    "    Args:\n",
    "        logprobs: Shape (n_constitutions, n_responses)\n",
    "\n",
    "    Returns:\n",
    "        loss: Average cross-entropy loss.\n",
    "    \"\"\"\n",
    "    logsumexp_row = torch.logsumexp(logprobs, dim=1, keepdim=True) # across responses\n",
    "    logsumexp_col = torch.logsumexp(logprobs, dim=0, keepdim=True) # across constitutions\n",
    "   \n",
    "    logits_row = logprobs - logsumexp_row\n",
    "    logits_col = logprobs - logsumexp_col\n",
    "\n",
    "    labels_row = torch.arange(logits_row.shape[0], dtype=torch.long).to(logprobs.device) \n",
    "    labels_col = torch.arange(logits_col.shape[0], dtype=torch.long).to(logprobs.device)\n",
    "   \n",
    "    loss_row = torch.nn.functional.cross_entropy(logits_row[0, :], labels_row[0], reduction=\"mean\")\n",
    "    # loss_col = F.cross_entropy(logits_col.t(), labels_col, reduction=\"mean\") # transpose col\n",
    "    \n",
    "    return loss_row"
   ]
  },
  {
   "cell_type": "code",
   "execution_count": 8,
   "metadata": {},
   "outputs": [
    {
     "data": {
      "text/plain": [
       "tensor(0.0536)"
      ]
     },
     "execution_count": 8,
     "metadata": {},
     "output_type": "execute_result"
    }
   ],
   "source": [
    "logprobs = torch.tensor([[-.1, -3],[-1000, -.1]])\n",
    "typo_loss(logprobs)"
   ]
  },
  {
   "cell_type": "code",
   "execution_count": null,
   "metadata": {},
   "outputs": [],
   "source": []
  }
 ],
 "metadata": {
  "kernelspec": {
   "display_name": "tstar",
   "language": "python",
   "name": "python3"
  },
  "language_info": {
   "codemirror_mode": {
    "name": "ipython",
    "version": 3
   },
   "file_extension": ".py",
   "mimetype": "text/x-python",
   "name": "python",
   "nbconvert_exporter": "python",
   "pygments_lexer": "ipython3",
   "version": "3.10.0"
  }
 },
 "nbformat": 4,
 "nbformat_minor": 2
}
