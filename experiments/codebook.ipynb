{
 "cells": [
  {
   "cell_type": "code",
   "execution_count": null,
   "metadata": {},
   "outputs": [],
   "source": [
    "import json\n",
    "import torch\n",
    "torch.manual_seed(123)\n",
    "import torch.nn as nn\n",
    "import torch.nn.functional as F"
   ]
  },
  {
   "cell_type": "code",
   "execution_count": null,
   "metadata": {},
   "outputs": [],
   "source": [
    "# data \n",
    "X = torch.load('hidden_states.pt', map_location=torch.device('cpu'))\n",
    "Y = torch.tensor(json.load(open('labels.json')), dtype=torch.long)\n",
    "Y.sum()"
   ]
  },
  {
   "cell_type": "code",
   "execution_count": null,
   "metadata": {},
   "outputs": [],
   "source": [
    "X_balanced = torch.empty_like(X)\n",
    "Y_balanced = torch.ones_like(Y) + 2\n",
    "\n",
    "count_false = 0\n",
    "count_true = 0\n",
    "\n",
    "for i in range(X.shape[0]):  \n",
    "    \n",
    "    if Y[i] == 0 and count_false < 450:\n",
    "        X_balanced[i, :] = X[i]\n",
    "        Y_balanced[i] = 0\n",
    "        count_false += 1\n",
    "\n",
    "    elif Y[i] == 1 and count_true < 450:\n",
    "        X_balanced[i, :] = X[i]\n",
    "        Y_balanced[i] = 1\n",
    "        count_true += 1\n",
    "\n",
    "mask = Y_balanced == 3\n",
    "\n",
    "X_balanced = X_balanced[~mask].float()\n",
    "Y_balanced = Y_balanced[~mask].float()\n",
    "Y_balanced.shape"
   ]
  },
  {
   "cell_type": "code",
   "execution_count": null,
   "metadata": {},
   "outputs": [],
   "source": [
    "n = int(0.9 * X_balanced.shape[0])\n",
    "X_train = X_balanced[:n, :]\n",
    "Y_train = Y_balanced[:n]\n",
    "X_test = X_balanced[n:, :]\n",
    "Y_test = Y_balanced[n:]\n",
    "\n",
    "# X = torch.randn(100, 4096)\n",
    "# X_train = torch.cat([X, X + 1], dim=0)\n",
    "# Y_train = torch.cat([torch.zeros(100), torch.ones(100)],  dim=0)\n",
    "\n",
    "rand_perm = torch.randperm(X_train.shape[0])\n",
    "X_train = X_train[rand_perm]\n",
    "Y_train = Y_train[rand_perm]\n",
    "Y_train.shape[0] / 4"
   ]
  },
  {
   "cell_type": "markdown",
   "metadata": {},
   "source": [
    "## Binary CLassifier"
   ]
  },
  {
   "cell_type": "markdown",
   "metadata": {},
   "source": [
    "### Model"
   ]
  },
  {
   "cell_type": "code",
   "execution_count": null,
   "metadata": {},
   "outputs": [],
   "source": [
    "class BinaryClassifier(nn.Module):\n",
    "  def __init__(self, input_dim=4096, hidden_dim=2048, output_dim=1, n_layers=4):\n",
    "    super().__init__()\n",
    "    \n",
    "    # input layers\n",
    "    layers = [\n",
    "        nn.Linear(input_dim, hidden_dim),\n",
    "        nn.ReLU()\n",
    "    ]\n",
    "    \n",
    "    # hidden\n",
    "    for _ in range(n_layers - 1):\n",
    "      layers.append(nn.Linear(hidden_dim, hidden_dim))\n",
    "      layers.append(nn.ReLU())\n",
    "      \n",
    "    # output\n",
    "    layers.extend([nn.Linear(hidden_dim, output_dim), nn.Sigmoid()])\n",
    "\n",
    "    self.model = nn.Sequential(*layers)\n",
    "\n",
    "  def forward(self, x):\n",
    "    return self.model(x)"
   ]
  },
  {
   "cell_type": "code",
   "execution_count": null,
   "metadata": {},
   "outputs": [],
   "source": [
    "class Trainer:\n",
    "  def __init__(self, X, Y, eval_X, eval_Y, model, batch_size=32, lr=1e-5, epochs=10):\n",
    "    self.X = X\n",
    "    self.Y = Y\n",
    "    self.eval_X = eval_X\n",
    "    self.eval_Y = eval_Y\n",
    "    self.model = model\n",
    "    self.batch_size = batch_size\n",
    "    self.lr = lr\n",
    "    self.epochs = epochs\n",
    "    self.criterion = nn.BCELoss()\n",
    "    self.optimizer = torch.optim.AdamW(self.model.parameters(), lr=lr)\n",
    "    self.training_losses = []\n",
    "    self.eval_losses = []\n",
    "\n",
    "\n",
    "  def train(self):  \n",
    "    for epoch in range(self.epochs):      \n",
    "      epoch_loss = []\n",
    "      num_steps = self.X.shape[0] // self.batch_size      \n",
    "      for i in range(num_steps):\n",
    "        rand_idx = torch.randint(self.X.shape[0], (self.batch_size, ))\n",
    "        # print(rand_idx)\n",
    "        x = self.X[rand_idx].float()        \n",
    "        y_label = self.Y[rand_idx].float().unsqueeze(-1)\n",
    "        y_pred = self.model(x)\n",
    "        # print(y_pred.shape, y_label.shape)     \n",
    "        loss = self.criterion(y_pred, y_label)\n",
    "        # print(y_pred, y_label)\n",
    "        self.optimizer.zero_grad()\n",
    "        loss.backward()\n",
    "        self.optimizer.step()\n",
    "        epoch_loss.append(loss.item())\n",
    "        # print(f\"Step {i} loss: {loss.item()}\")\n",
    "        \n",
    "      print(f\"Epoch loss {epoch}: {torch.mean(torch.tensor(epoch_loss))}\")\n",
    "      self.training_losses.append(torch.mean(torch.tensor(epoch_loss)))\n",
    "      self.eval(eval_X=self.eval_X, eval_Y=self.eval_Y)\n",
    "      \n",
    "  def eval(self, eval_X, eval_Y):\n",
    "    with torch.no_grad():\n",
    "      y_pred = self.model(eval_X.float())\n",
    "      loss = self.criterion(y_pred, eval_Y.float().unsqueeze(-1))\n",
    "      print(f\"Eval Loss: {loss.mean()}\")\n",
    "      self.eval_losses.append(loss.mean())\n",
    "      \n",
    "    "
   ]
  },
  {
   "cell_type": "code",
   "execution_count": null,
   "metadata": {},
   "outputs": [],
   "source": [
    "model = BinaryClassifier()\n",
    "trainer = Trainer(X_train, Y_train, X_test, Y_test, model)\n",
    "trainer.train()"
   ]
  },
  {
   "cell_type": "code",
   "execution_count": null,
   "metadata": {},
   "outputs": [],
   "source": [
    "[trainer.training_losses.numpy()"
   ]
  },
  {
   "cell_type": "code",
   "execution_count": null,
   "metadata": {},
   "outputs": [],
   "source": [
    "# import matplotlib.pyplot as plt\n",
    "# [loss.numpy() for loss in trainer.training_losses.numpy()]\n",
    "[loss.detach().item() for loss in trainer.eval_losses]"
   ]
  },
  {
   "cell_type": "code",
   "execution_count": null,
   "metadata": {},
   "outputs": [],
   "source": [
    "[loss.numpy() for loss in trainer.eval_losses.numpy()]"
   ]
  },
  {
   "cell_type": "code",
   "execution_count": null,
   "metadata": {},
   "outputs": [],
   "source": [
    " trainer.eval_losses"
   ]
  },
  {
   "cell_type": "code",
   "execution_count": null,
   "metadata": {},
   "outputs": [],
   "source": []
  }
 ],
 "metadata": {
  "kernelspec": {
   "display_name": "typo",
   "language": "python",
   "name": "python3"
  },
  "language_info": {
   "codemirror_mode": {
    "name": "ipython",
    "version": 3
   },
   "file_extension": ".py",
   "mimetype": "text/x-python",
   "name": "python",
   "nbconvert_exporter": "python",
   "pygments_lexer": "ipython3",
   "version": "3.10.0"
  }
 },
 "nbformat": 4,
 "nbformat_minor": 2
}
